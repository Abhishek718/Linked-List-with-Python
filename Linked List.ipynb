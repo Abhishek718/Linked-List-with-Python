{
 "cells": [
  {
   "cell_type": "markdown",
   "metadata": {},
   "source": [
    "# Linked List"
   ]
  },
  {
   "cell_type": "code",
   "execution_count": 1,
   "metadata": {},
   "outputs": [
    {
     "name": "stdout",
     "output_type": "stream",
     "text": [
      "100 99 10 20 30 56 40 50 \n",
      "99 10 20 30 56 40 50 \n"
     ]
    },
    {
     "data": {
      "text/plain": [
       "7"
      ]
     },
     "execution_count": 1,
     "metadata": {},
     "output_type": "execute_result"
    }
   ],
   "source": [
    "class node:\n",
    "    \n",
    "    def __init__(self,data):\n",
    "        self.data = data\n",
    "        self.next = None\n",
    "        \n",
    "class linkedlist:    \n",
    "    \n",
    "    def __init__(self):\n",
    "        self.start = None  \n",
    "        \n",
    "    def insertfirst(self,value):\n",
    "        newnode = node(value)\n",
    "        if self.start == None:\n",
    "            self.start=newnode\n",
    "        else:\n",
    "            newnode.next = self.start\n",
    "            self.start = newnode\n",
    "            \n",
    "    def insertkrr(self,pos,value):\n",
    "        newnode = node(value)\n",
    "        if pos > self.length() or pos < 0 :\n",
    "            return None\n",
    "        else:\n",
    "            if pos == 0:\n",
    "                self.insertfirst(value)\n",
    "            else:\n",
    "                temp = self.start\n",
    "                count = 0\n",
    "                while count < pos-1:\n",
    "                    count = count + 1\n",
    "                    temp = temp.next\n",
    "                can = temp.next\n",
    "                temp.next = newnode\n",
    "                newnode.next = can\n",
    "                \n",
    "    def insertlast(self,value):\n",
    "        newnode = node(value)\n",
    "        if self.start == None:\n",
    "            self.start = newnode\n",
    "        else:    \n",
    "            temp = self.start\n",
    "            while temp.next != None:\n",
    "                temp = temp.next\n",
    "            temp.next = newnode   \n",
    "            \n",
    "    def deletefirst(self):\n",
    "        if self.start == None:\n",
    "            print(\"linked list is empty\")\n",
    "        else:\n",
    "            self.start = self.start.next   \n",
    "            \n",
    "    def viewlist(self):\n",
    "        if self.start == None:\n",
    "            print(\"Linked list is empty\")\n",
    "        else:\n",
    "            temp = self.start\n",
    "            while temp != None:\n",
    "                print(temp.data,end = ' ')\n",
    "                temp = temp.next        \n",
    "                \n",
    "    def length(self):\n",
    "        temp = self.start\n",
    "        count = 0\n",
    "        while temp != None:\n",
    "            count = count + 1\n",
    "            temp = temp.next\n",
    "        return count   \n",
    "        \n",
    "                \n",
    "                \n",
    "mylist = linkedlist()\n",
    "mylist.insertfirst(99)\n",
    "mylist.insertlast(10)\n",
    "mylist.insertlast(20)\n",
    "mylist.insertlast(30)\n",
    "mylist.insertlast(40)\n",
    "mylist.insertlast(50)\n",
    "mylist.insertfirst(100)\n",
    "mylist.insertkrr(5,56)\n",
    "mylist.viewlist()\n",
    "print()\n",
    "mylist.length()\n",
    "mylist.deletefirst()\n",
    "mylist.viewlist()\n",
    "print()\n",
    "mylist.length()\n",
    "\n",
    "                \n",
    "            \n",
    "        "
   ]
  },
  {
   "cell_type": "code",
   "execution_count": null,
   "metadata": {},
   "outputs": [],
   "source": []
  }
 ],
 "metadata": {
  "kernelspec": {
   "display_name": "Python 3",
   "language": "python",
   "name": "python3"
  },
  "language_info": {
   "codemirror_mode": {
    "name": "ipython",
    "version": 3
   },
   "file_extension": ".py",
   "mimetype": "text/x-python",
   "name": "python",
   "nbconvert_exporter": "python",
   "pygments_lexer": "ipython3",
   "version": "3.7.2"
  }
 },
 "nbformat": 4,
 "nbformat_minor": 2
}
